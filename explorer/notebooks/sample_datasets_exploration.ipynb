{
 "cells": [
  {
   "cell_type": "markdown",
   "metadata": {},
   "source": [
    "# Load and summerize sample files\n",
    "This document explores and summerize available sample files for both Point As and Point Bs. "
   ]
  },
  {
   "cell_type": "code",
   "execution_count": 1,
   "metadata": {},
   "outputs": [],
   "source": [
    "import pandas as pd"
   ]
  },
  {
   "cell_type": "code",
   "execution_count": 2,
   "metadata": {},
   "outputs": [],
   "source": [
    "datasets = {}\n",
    "with open('../../data/pointAs-93710.csv') as fname:\n",
    "    datasets['point_as'] = pd.read_csv(fname)\n",
    "with open('../../data/pointBs-93710.csv') as fname:\n",
    "    datasets['point_bs'] = pd.read_csv(fname)"
   ]
  },
  {
   "cell_type": "code",
   "execution_count": 3,
   "metadata": {},
   "outputs": [
    {
     "name": "stdout",
     "output_type": "stream",
     "text": [
      "For point_as dataset:\n",
      "There are 50 unique rows.\n",
      "This dataset has the following columns: ['zipCode' 'county' 'population' 'longitude' 'latitude' 'censusTract'\n",
      " 'censusBlockGroup'] \n",
      "\n",
      "\n",
      "For point_bs dataset:\n",
      "There are 283 unique rows.\n",
      "This dataset has the following columns: ['Row #' 'Last Name' 'First Name' 'NPI' 'CA License' 'Non CA License'\n",
      " 'Non CA License State' 'Health Plan ID for Plan-to-Plan Contract'\n",
      " 'Provider Language 1' 'Provider Language 2' 'Provider Language 3'\n",
      " 'Current Number of Enrollees Assigned to Provider' 'Type of Licensure'\n",
      " 'Line-of-Business' 'Name of Network' 'Network Tier ID' 'Clinic Name'\n",
      " 'Address' 'Address 2' 'City' 'County' 'State' 'Zip Code' 'Phone Number'\n",
      " 'Telehealth (Y/N)' 'Accepting New Patients (Y/N)' 'Specialty'\n",
      " 'Specialty (Other)' 'Board Certified or Eligible (Y/N)'\n",
      " 'Medical Group / IPA' 'Hospital' 'Hospital NPI' 'Hospitalist (Y/N)'] \n",
      "\n",
      "\n"
     ]
    }
   ],
   "source": [
    "for df_name, df in datasets.items():\n",
    "    print('For {} dataset:'.format(df_name))\n",
    "    print('There are {} unique rows.'.format(len(df.drop_duplicates())))\n",
    "    print('This dataset has the following columns: {} \\n\\n'.format(df.columns.values))"
   ]
  },
  {
   "cell_type": "markdown",
   "metadata": {},
   "source": [
    "Not all addresses in point B dataset are unique. For example, many providers work from a single hospital, thus have the same address. How many unique addresses for point B do we have?"
   ]
  },
  {
   "cell_type": "code",
   "execution_count": 4,
   "metadata": {},
   "outputs": [
    {
     "name": "stdout",
     "output_type": "stream",
     "text": [
      "There are 34 unique point Bs addresses.\n"
     ]
    }
   ],
   "source": [
    "print('There are {} unique point Bs addresses.'.format(datasets['point_bs'].Address.nunique()))"
   ]
  },
  {
   "cell_type": "code",
   "execution_count": null,
   "metadata": {},
   "outputs": [],
   "source": []
  }
 ],
 "metadata": {
  "kernelspec": {
   "display_name": "Python 3",
   "language": "python",
   "name": "python3"
  },
  "language_info": {
   "codemirror_mode": {
    "name": "ipython",
    "version": 3
   },
   "file_extension": ".py",
   "mimetype": "text/x-python",
   "name": "python",
   "nbconvert_exporter": "python",
   "pygments_lexer": "ipython3",
   "version": "3.6.2"
  }
 },
 "nbformat": 4,
 "nbformat_minor": 2
}
