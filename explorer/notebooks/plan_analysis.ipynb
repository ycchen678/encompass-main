{
 "cells": [
  {
   "cell_type": "code",
   "execution_count": 2,
   "metadata": {},
   "outputs": [],
   "source": [
    "import json\n",
    "import pandas as pd\n",
    "import requests\n",
    "\n",
    "pd.set_option('display.max_columns', 500)\n",
    "pd.set_option('display.max_columns', 500)"
   ]
  },
  {
   "cell_type": "markdown",
   "metadata": {},
   "source": [
    "## California"
   ]
  },
  {
   "cell_type": "code",
   "execution_count": 9,
   "metadata": {},
   "outputs": [
    {
     "name": "stderr",
     "output_type": "stream",
     "text": [
      "/opt/conda/lib/python3.6/site-packages/IPython/core/interactiveshell.py:2728: DtypeWarning: Columns (3) have mixed types. Specify dtype option on import or set low_memory=False.\n",
      "  interactivity=interactivity, compiler=compiler, result=result)\n"
     ]
    }
   ],
   "source": [
    "df_pcp = pd.read_csv('../data/private/PCPs FTE 2015.csv')\n",
    "df_spe = pd.read_csv('../data/private/Specialists FTE 2015.csv')"
   ]
  },
  {
   "cell_type": "code",
   "execution_count": 10,
   "metadata": {},
   "outputs": [
    {
     "data": {
      "text/html": [
       "<div>\n",
       "<style scoped>\n",
       "    .dataframe tbody tr th:only-of-type {\n",
       "        vertical-align: middle;\n",
       "    }\n",
       "\n",
       "    .dataframe tbody tr th {\n",
       "        vertical-align: top;\n",
       "    }\n",
       "\n",
       "    .dataframe thead th {\n",
       "        text-align: right;\n",
       "    }\n",
       "</style>\n",
       "<table border=\"1\" class=\"dataframe\">\n",
       "  <thead>\n",
       "    <tr style=\"text-align: right;\">\n",
       "      <th></th>\n",
       "      <th>ID</th>\n",
       "      <th>Plan ID</th>\n",
       "      <th>Health Plan</th>\n",
       "      <th>Reporting for Health Plan</th>\n",
       "      <th>Network Name</th>\n",
       "      <th>NPI</th>\n",
       "      <th>Num Network Enrollees</th>\n",
       "      <th>Num Network Specialists</th>\n",
       "      <th>Network Expected Enrollees to Specs</th>\n",
       "      <th>Total Expected Enrollment</th>\n",
       "      <th>Min Regional Expected Enrollment</th>\n",
       "      <th>Max Regional Expected Enrollment</th>\n",
       "      <th>Regions</th>\n",
       "      <th>Provider Expected Enrollment</th>\n",
       "      <th>FTE</th>\n",
       "    </tr>\n",
       "  </thead>\n",
       "  <tbody>\n",
       "    <tr>\n",
       "      <th>0</th>\n",
       "      <td>1</td>\n",
       "      <td>933 0043</td>\n",
       "      <td>California Physicians' Service</td>\n",
       "      <td>NaN</td>\n",
       "      <td>Access+ HMO</td>\n",
       "      <td>900000048</td>\n",
       "      <td>529267</td>\n",
       "      <td>27126</td>\n",
       "      <td>19.511428</td>\n",
       "      <td>37.289217</td>\n",
       "      <td>23.199474</td>\n",
       "      <td>23.199474</td>\n",
       "      <td>1</td>\n",
       "      <td>23.199474</td>\n",
       "      <td>0.071539</td>\n",
       "    </tr>\n",
       "    <tr>\n",
       "      <th>1</th>\n",
       "      <td>2</td>\n",
       "      <td>933 0043</td>\n",
       "      <td>California Physicians' Service</td>\n",
       "      <td>NaN</td>\n",
       "      <td>Access+ HMO</td>\n",
       "      <td>900000061</td>\n",
       "      <td>529267</td>\n",
       "      <td>27126</td>\n",
       "      <td>19.511428</td>\n",
       "      <td>37.289217</td>\n",
       "      <td>23.199474</td>\n",
       "      <td>23.199474</td>\n",
       "      <td>1</td>\n",
       "      <td>23.199474</td>\n",
       "      <td>0.071539</td>\n",
       "    </tr>\n",
       "    <tr>\n",
       "      <th>2</th>\n",
       "      <td>3</td>\n",
       "      <td>933 0043</td>\n",
       "      <td>California Physicians' Service</td>\n",
       "      <td>NaN</td>\n",
       "      <td>Access+ HMO</td>\n",
       "      <td>900000072</td>\n",
       "      <td>529267</td>\n",
       "      <td>27126</td>\n",
       "      <td>19.511428</td>\n",
       "      <td>18.162223</td>\n",
       "      <td>12.244241</td>\n",
       "      <td>12.244241</td>\n",
       "      <td>1</td>\n",
       "      <td>12.244241</td>\n",
       "      <td>0.040124</td>\n",
       "    </tr>\n",
       "    <tr>\n",
       "      <th>3</th>\n",
       "      <td>4</td>\n",
       "      <td>933 0043</td>\n",
       "      <td>California Physicians' Service</td>\n",
       "      <td>NaN</td>\n",
       "      <td>Access+ HMO</td>\n",
       "      <td>900000086</td>\n",
       "      <td>529267</td>\n",
       "      <td>27126</td>\n",
       "      <td>19.511428</td>\n",
       "      <td>93.313054</td>\n",
       "      <td>5.715756</td>\n",
       "      <td>5.715756</td>\n",
       "      <td>1</td>\n",
       "      <td>5.715756</td>\n",
       "      <td>0.015029</td>\n",
       "    </tr>\n",
       "    <tr>\n",
       "      <th>4</th>\n",
       "      <td>5</td>\n",
       "      <td>933 0043</td>\n",
       "      <td>California Physicians' Service</td>\n",
       "      <td>NaN</td>\n",
       "      <td>Access+ HMO</td>\n",
       "      <td>900000089</td>\n",
       "      <td>529267</td>\n",
       "      <td>27126</td>\n",
       "      <td>19.511428</td>\n",
       "      <td>75.102483</td>\n",
       "      <td>14.842240</td>\n",
       "      <td>14.842240</td>\n",
       "      <td>1</td>\n",
       "      <td>14.842240</td>\n",
       "      <td>0.040989</td>\n",
       "    </tr>\n",
       "  </tbody>\n",
       "</table>\n",
       "</div>"
      ],
      "text/plain": [
       "   ID   Plan ID                     Health Plan Reporting for Health Plan  \\\n",
       "0   1  933 0043  California Physicians' Service                       NaN   \n",
       "1   2  933 0043  California Physicians' Service                       NaN   \n",
       "2   3  933 0043  California Physicians' Service                       NaN   \n",
       "3   4  933 0043  California Physicians' Service                       NaN   \n",
       "4   5  933 0043  California Physicians' Service                       NaN   \n",
       "\n",
       "  Network Name        NPI  Num Network Enrollees  Num Network Specialists  \\\n",
       "0  Access+ HMO  900000048                 529267                    27126   \n",
       "1  Access+ HMO  900000061                 529267                    27126   \n",
       "2  Access+ HMO  900000072                 529267                    27126   \n",
       "3  Access+ HMO  900000086                 529267                    27126   \n",
       "4  Access+ HMO  900000089                 529267                    27126   \n",
       "\n",
       "   Network Expected Enrollees to Specs  Total Expected Enrollment  \\\n",
       "0                            19.511428                  37.289217   \n",
       "1                            19.511428                  37.289217   \n",
       "2                            19.511428                  18.162223   \n",
       "3                            19.511428                  93.313054   \n",
       "4                            19.511428                  75.102483   \n",
       "\n",
       "   Min Regional Expected Enrollment  Max Regional Expected Enrollment  \\\n",
       "0                         23.199474                         23.199474   \n",
       "1                         23.199474                         23.199474   \n",
       "2                         12.244241                         12.244241   \n",
       "3                          5.715756                          5.715756   \n",
       "4                         14.842240                         14.842240   \n",
       "\n",
       "   Regions  Provider Expected Enrollment       FTE  \n",
       "0        1                     23.199474  0.071539  \n",
       "1        1                     23.199474  0.071539  \n",
       "2        1                     12.244241  0.040124  \n",
       "3        1                      5.715756  0.015029  \n",
       "4        1                     14.842240  0.040989  "
      ]
     },
     "execution_count": 10,
     "metadata": {},
     "output_type": "execute_result"
    }
   ],
   "source": [
    "df_pcp.head(5)"
   ]
  },
  {
   "cell_type": "markdown",
   "metadata": {},
   "source": [
    "## Find Largest Networks and Plans\n",
    "### PCPs"
   ]
  },
  {
   "cell_type": "code",
   "execution_count": 65,
   "metadata": {},
   "outputs": [],
   "source": [
    "df_networks = df_pcp.groupby(['Health Plan', 'Networkname'])['Num Network Enrollees'].max()\n",
    "df_plans = df_networks.groupby(['Health Plan']).sum()"
   ]
  },
  {
   "cell_type": "code",
   "execution_count": 66,
   "metadata": {},
   "outputs": [],
   "source": [
    "df_networks = df_networks.sort_values(ascending=False)\n",
    "df_plans = df_plans.sort_values(ascending=False)"
   ]
  },
  {
   "cell_type": "code",
   "execution_count": 67,
   "metadata": {},
   "outputs": [],
   "source": [
    "# Save to CSV\n",
    "df_networks.to_csv('../data/private/PCP_networks_2015.csv')\n",
    "df_plans.to_csv('../data/Private/PCP_plans_2015.csv')"
   ]
  },
  {
   "cell_type": "markdown",
   "metadata": {},
   "source": [
    "### Specialists"
   ]
  },
  {
   "cell_type": "code",
   "execution_count": 68,
   "metadata": {},
   "outputs": [],
   "source": [
    "df_networks = df_spe.groupby(['Health Plan', 'Network Name'])['Num Network Enrollees'].max()\n",
    "df_plans = df_networks.groupby(['Health Plan']).sum()"
   ]
  },
  {
   "cell_type": "code",
   "execution_count": 69,
   "metadata": {},
   "outputs": [],
   "source": [
    "df_networks = df_networks.sort_values(ascending=False)\n",
    "df_plans = df_plans.sort_values(ascending=False)\n",
    "\n",
    "# Note - results are identical: good news."
   ]
  },
  {
   "cell_type": "markdown",
   "metadata": {},
   "source": [
    "### List specialties "
   ]
  },
  {
   "cell_type": "code",
   "execution_count": null,
   "metadata": {},
   "outputs": [],
   "source": [
    "# Loop through Specialist2016 California data to list available specialties.\n",
    "chunksize = 10 ** 4\n",
    "specialties = set()\n",
    "try:\n",
    "    for chunk in pd.read_csv('../data/private/IndividualSB964Specialist2016.csv', chunksize=chunksize, encoding=\"ISO-8859-1\"):\n",
    "        temp_specialties = chunk['SpecialistSpecialty'].unique()\n",
    "        specialties.update(temp_specialties)\n",
    "except:\n",
    "    pass"
   ]
  },
  {
   "cell_type": "code",
   "execution_count": 1,
   "metadata": {},
   "outputs": [
    {
     "ename": "NameError",
     "evalue": "name 'specialties' is not defined",
     "output_type": "error",
     "traceback": [
      "\u001b[0;31m---------------------------------------------------------------------------\u001b[0m",
      "\u001b[0;31mNameError\u001b[0m                                 Traceback (most recent call last)",
      "\u001b[0;32m<ipython-input-1-92c9f7767db3>\u001b[0m in \u001b[0;36m<module>\u001b[0;34m()\u001b[0m\n\u001b[0;32m----> 1\u001b[0;31m \u001b[0msorted\u001b[0m\u001b[0;34m(\u001b[0m\u001b[0mlist\u001b[0m\u001b[0;34m(\u001b[0m\u001b[0mspecialties\u001b[0m\u001b[0;34m)\u001b[0m\u001b[0;34m)\u001b[0m\u001b[0;34m\u001b[0m\u001b[0m\n\u001b[0m",
      "\u001b[0;31mNameError\u001b[0m: name 'specialties' is not defined"
     ]
    }
   ],
   "source": [
    "# Print list.\n",
    "sorted(list(specialties))"
   ]
  },
  {
   "cell_type": "markdown",
   "metadata": {},
   "source": [
    "## Texas"
   ]
  },
  {
   "cell_type": "code",
   "execution_count": 7,
   "metadata": {},
   "outputs": [],
   "source": [
    "plan_index = [\n",
    "    'https://d3ul0st9g52g6o.cloudfront.net/ffm/cms-data-index.json',\n",
    "    # 'https://www.dentegra.com/hcx/cms-data-index.json',\n",
    "    # 'http://mydental.guardianlife.com/secure/json/index.json',\n",
    "    'https://my.firstcare.com/CMS/MachineReadableFormat/cms-data-index.json',\n",
    "    'https://providersearch.communitycares.com/webservice/json/display/him/index.json',\n",
    "    'https://api.centene.com/ambetter/reference/cms-data-index.json',\n",
    "    'https://www.bcbstx.com/forms/tx/index_tx.JSON',\n",
    "    'https://cmsdata.providers4you.com/cms-data-index.json',\n",
    "    'http://stg-oh-medicaid.molinahealthcare.com/json/index.json',\n",
    "    'http://www.bestlife.com/exchange/cms-data-index.json',\n",
    "    # 'https://www.dentaquest.com/getattachment/Marketplace/CMSDataIndex/cms-data-index.json',\n",
    "    'https://api.humana.com/v1/cms/index.json',\n",
    "    'https://chppayment.christushealth.org/workfiles/json/index.json',\n",
    "    'https://senderohealth.com/idealcareeng/json/jsonfiles/index.json',\n",
    "    'https://emihealth.com/services/providerdata/cms-data-index.json'\n",
    "]\n",
    "\n",
    "# plan_index = [\n",
    "#     'https://my.firstcare.com/CMS/MachineReadableFormat/cms-data-index.json',\n",
    "#     'https://providersearch.communitycares.com/webservice/json/display/him/index.json',\n",
    "#     'https://cmsdata.providers4you.com/cms-data-index.json'\n",
    "# ]"
   ]
  },
  {
   "cell_type": "code",
   "execution_count": 8,
   "metadata": {},
   "outputs": [
    {
     "name": "stdout",
     "output_type": "stream",
     "text": [
      "Processed https://d3ul0st9g52g6o.cloudfront.net/ffm/cms-data-index.json\n",
      "Error parsing https://my.firstcare.com/CMS/MachineReadableFormat/cms-data-index.json\n",
      "Error parsing https://providersearch.communitycares.com/webservice/json/display/him/index.json\n",
      "Processed https://api.centene.com/ambetter/reference/cms-data-index.json\n",
      "Processed https://www.bcbstx.com/forms/tx/index_tx.JSON\n",
      "Error parsing https://cmsdata.providers4you.com/cms-data-index.json\n",
      "Processed http://stg-oh-medicaid.molinahealthcare.com/json/index.json\n",
      "Processed http://www.bestlife.com/exchange/cms-data-index.json\n",
      "Processed https://api.humana.com/v1/cms/index.json\n",
      "Processed https://chppayment.christushealth.org/workfiles/json/index.json\n",
      "Processed https://senderohealth.com/idealcareeng/json/jsonfiles/index.json\n",
      "Processed https://emihealth.com/services/providerdata/cms-data-index.json\n"
     ]
    }
   ],
   "source": [
    "# Find provider urls for each plan.\n",
    "provider_urls = []\n",
    "for url in plan_index:\n",
    "    try:\n",
    "        response = requests.get(url)\n",
    "        response.raise_for_status()\n",
    "        response_json = response.json()\n",
    "        # print(response_json)\n",
    "        if 'provider_urls' in response_json:\n",
    "            provider_urls.extend(response_json['provider_urls'])\n",
    "        print('Processed {}'.format(url))\n",
    "    except:\n",
    "        print('Error parsing {}'.format(url))\n",
    "        continue"
   ]
  },
  {
   "cell_type": "code",
   "execution_count": 9,
   "metadata": {},
   "outputs": [],
   "source": [
    "df = pd.DataFrame(provider_urls, columns=[\"urls\"])\n",
    "df.to_csv('../data/private/provider_urls.csv', index=False)"
   ]
  },
  {
   "cell_type": "code",
   "execution_count": 4,
   "metadata": {},
   "outputs": [],
   "source": [
    "provider_urls_df = pd.read_csv('../data/private/provider_urls.csv')\n",
    "provider_urls = provider_urls_df['urls'].tolist()"
   ]
  },
  {
   "cell_type": "code",
   "execution_count": null,
   "metadata": {},
   "outputs": [
    {
     "name": "stdout",
     "output_type": "stream",
     "text": [
      "https://d3ul0st9g52g6o.cloudfront.net/ffm/providers.json\n",
      "Processed https://d3ul0st9g52g6o.cloudfront.net/ffm/providers.json\n",
      "https://api.centene.com/ambetter/reference/provider_facility.json\n",
      "Processed https://api.centene.com/ambetter/reference/provider_facility.json\n",
      "https://api.centene.com/ambetter/reference/provider_individual.json\n",
      "Processed https://api.centene.com/ambetter/reference/provider_individual.json\n",
      "https://www.bcbstx.com/forms/tx/medical_provider_tx-1.json\n"
     ]
    }
   ],
   "source": [
    "# Extract provider info for each plan.\n",
    "providers = []\n",
    "for provider_url in provider_urls:\n",
    "    print(provider_url)\n",
    "    try:\n",
    "        response = requests.get(provider_url)\n",
    "        response.raise_for_status()\n",
    "        response_json = response.json()\n",
    "        providers.extend(response_json)\n",
    "        print('Processed {}'.format(provider_url))\n",
    "    except:\n",
    "        print('Error fetching {}'.format(provider_url))\n",
    "        continue"
   ]
  },
  {
   "cell_type": "code",
   "execution_count": 3,
   "metadata": {},
   "outputs": [
    {
     "ename": "NameError",
     "evalue": "name 'providers' is not defined",
     "output_type": "error",
     "traceback": [
      "\u001b[0;31m---------------------------------------------------------------------------\u001b[0m",
      "\u001b[0;31mNameError\u001b[0m                                 Traceback (most recent call last)",
      "\u001b[0;32m<ipython-input-3-c80213d5c984>\u001b[0m in \u001b[0;36m<module>\u001b[0;34m()\u001b[0m\n\u001b[1;32m      1\u001b[0m \u001b[0;31m# Save providers to file.\u001b[0m\u001b[0;34m\u001b[0m\u001b[0;34m\u001b[0m\u001b[0m\n\u001b[0;32m----> 2\u001b[0;31m \u001b[0mjson\u001b[0m\u001b[0;34m.\u001b[0m\u001b[0mdump\u001b[0m\u001b[0;34m(\u001b[0m\u001b[0mproviders\u001b[0m\u001b[0;34m,\u001b[0m \u001b[0;34m'../data/private/providers.json'\u001b[0m\u001b[0;34m)\u001b[0m\u001b[0;34m\u001b[0m\u001b[0m\n\u001b[0m",
      "\u001b[0;31mNameError\u001b[0m: name 'providers' is not defined"
     ]
    }
   ],
   "source": [
    "# Save providers to file.\n",
    "json.dump(providers, '../data/private/providers.json')"
   ]
  },
  {
   "cell_type": "code",
   "execution_count": null,
   "metadata": {},
   "outputs": [],
   "source": [
    "# Find plans with most providers\n",
    "plans = defaultdict(set)\n",
    "for provider in providers:\n",
    "    for plan in provider['plans']:\n",
    "        \n",
    "{\"npi\":\"1013236256\",\"type\":\"INDIVIDUAL\",\"name\":{\"prefix\":\"Dr.\",\"first\":\"Alicia\",\"middle\":\"L\",\"last\":\"Johnson\"},\"addresses\":[{\"address\":\"17510 W Grand Pkwy S\",\"address_2\":\"Ste 530\",\"city\":\"Sugar Land\",\"state\":\"TX\",\"zip\":\"77479\",\"phone\":\"2813130090\"},{\"address\":\"7737 Southwest Fwy\",\"address_2\":\"Ste 500\",\"city\":\"Houston\",\"state\":\"TX\",\"zip\":\"77074\",\"phone\":\"2813130090\"}],\"specialty\":[\"Podiatry\"],\"accepting\":\"accepting\",\"gender\":\"Female\",\"plans\":[{\"plan_id_type\":\"HIOS-PLAN-ID\",\"plan_id\":\"32673TX0630002\",\"network_tier\":\"PREFERRED\",\"years\":[2017]},{\"plan_id_type\":\"HIOS-PLAN-ID\",\"plan_id\":\"32673TX0630003\",\"network_tier\":\"PREFERRED\",\"years\":[2017]},{\"plan_id_type\":\"HIOS-PLAN-ID\",\"plan_id\":\"32673TX0630004\",\"network_tier\":\"PREFERRED\",\"years\":[2017]}"
   ]
  },
  {
   "cell_type": "code",
   "execution_count": null,
   "metadata": {},
   "outputs": [],
   "source": []
  }
 ],
 "metadata": {
  "kernelspec": {
   "display_name": "Python 3",
   "language": "python",
   "name": "python3"
  },
  "language_info": {
   "codemirror_mode": {
    "name": "ipython",
    "version": 3
   },
   "file_extension": ".py",
   "mimetype": "text/x-python",
   "name": "python",
   "nbconvert_exporter": "python",
   "pygments_lexer": "ipython3",
   "version": "3.6.3"
  }
 },
 "nbformat": 4,
 "nbformat_minor": 2
}
